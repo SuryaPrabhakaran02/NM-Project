{
  "nbformat": 4,
  "nbformat_minor": 0,
  "metadata": {
    "colab": {
      "provenance": []
    },
    "kernelspec": {
      "name": "python3",
      "display_name": "Python 3"
    },
    "language_info": {
      "name": "python"
    }
  },
  "cells": [
    {
      "cell_type": "markdown",
      "source": [
        "***Test the model***"
      ],
      "metadata": {
        "id": "Uc-VHn7PC3Cd"
      }
    },
    {
      "cell_type": "code",
      "execution_count": 1,
      "metadata": {
        "id": "g8UZzmgnBx4H"
      },
      "outputs": [],
      "source": [
        "from tensorflow.keras.models import load_model\n",
        "from tensorflow.keras.preprocessing import image\n",
        "from tensorflow.keras.applications.xception import preprocess_input\n",
        "import numpy as np\n"
      ]
    },
    {
      "cell_type": "code",
      "source": [
        "model=load_model('/content/drive/MyDrive/NM/adp.h5')"
      ],
      "metadata": {
        "id": "8MteGwkVDaYl"
      },
      "execution_count": 19,
      "outputs": []
    },
    {
      "cell_type": "code",
      "source": [
        "import sys\n",
        "sys.path.insert(1, '/content/drive/MyDrive/NM/Alzheimers_DP_IBM_Dep.ipynb')"
      ],
      "metadata": {
        "id": "tYJiCGPjHHhL"
      },
      "execution_count": 15,
      "outputs": []
    },
    {
      "cell_type": "code",
      "source": [
        "!unzip /content/drive/MyDrive/NM/Alzheimers.zip"
      ],
      "metadata": {
        "id": "31mYokmRJu-G"
      },
      "execution_count": null,
      "outputs": []
    },
    {
      "cell_type": "code",
      "source": [
        "img=image.load_img(r'/content/Alzheimer_s Dataset/test/VeryMildDemented/26 (59).jpg',target_size=(224,224))\n",
        "x=image.img_to_array(img)\n",
        "import numpy as np\n",
        "x=np.expand_dims(x,axis=0)\n",
        "img_data=preprocess_input(x)\n",
        "img_data.shape\n",
        "model.predict(img_data)\n",
        "output=np.argmax(model.predict(img_data), axis=1)\n",
        "output"
      ],
      "metadata": {
        "id": "nt7w_BHHDwFM"
      },
      "execution_count": null,
      "outputs": []
    },
    {
      "cell_type": "code",
      "source": [],
      "metadata": {
        "id": "FkjOsbwwDwQy"
      },
      "execution_count": null,
      "outputs": []
    },
    {
      "cell_type": "code",
      "source": [],
      "metadata": {
        "id": "LQFI1BX3DwZY"
      },
      "execution_count": null,
      "outputs": []
    }
  ]
}